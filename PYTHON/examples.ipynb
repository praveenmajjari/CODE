{
 "cells": [
  {
   "cell_type": "code",
   "execution_count": 15,
   "id": "e08419ae",
   "metadata": {},
   "outputs": [
    {
     "ename": "TypeError",
     "evalue": "can only concatenate str (not \"int\") to str",
     "output_type": "error",
     "traceback": [
      "\u001b[31m---------------------------------------------------------------------------\u001b[39m",
      "\u001b[31mTypeError\u001b[39m                                 Traceback (most recent call last)",
      "\u001b[36mCell\u001b[39m\u001b[36m \u001b[39m\u001b[32mIn[15]\u001b[39m\u001b[32m, line 6\u001b[39m\n\u001b[32m      3\u001b[39m     sum_of_two_digit_number=\u001b[38;5;28mint\u001b[39m(two_digit_number[\u001b[32m0\u001b[39m]+\u001b[38;5;28mint\u001b[39m(two_digit_number[\u001b[32m1\u001b[39m]))\n\u001b[32m      4\u001b[39m     \u001b[38;5;28mprint\u001b[39m( sum_of_two_digit_number)\n\u001b[32m----> \u001b[39m\u001b[32m6\u001b[39m \u001b[43msum_of_two_digits\u001b[49m\u001b[43m(\u001b[49m\u001b[43m)\u001b[49m\n",
      "\u001b[36mCell\u001b[39m\u001b[36m \u001b[39m\u001b[32mIn[15]\u001b[39m\u001b[32m, line 3\u001b[39m, in \u001b[36msum_of_two_digits\u001b[39m\u001b[34m()\u001b[39m\n\u001b[32m      1\u001b[39m \u001b[38;5;28;01mdef\u001b[39;00m\u001b[38;5;250m \u001b[39m\u001b[34msum_of_two_digits\u001b[39m():\n\u001b[32m      2\u001b[39m     two_digit_number=\u001b[38;5;28minput\u001b[39m(\u001b[33m\"\u001b[39m\u001b[33mEnter the two digit number:\u001b[39m\u001b[33m\"\u001b[39m)\n\u001b[32m----> \u001b[39m\u001b[32m3\u001b[39m     sum_of_two_digit_number=\u001b[38;5;28mint\u001b[39m(\u001b[43mtwo_digit_number\u001b[49m\u001b[43m[\u001b[49m\u001b[32;43m0\u001b[39;49m\u001b[43m]\u001b[49m\u001b[43m+\u001b[49m\u001b[38;5;28;43mint\u001b[39;49m\u001b[43m(\u001b[49m\u001b[43mtwo_digit_number\u001b[49m\u001b[43m[\u001b[49m\u001b[32;43m1\u001b[39;49m\u001b[43m]\u001b[49m\u001b[43m)\u001b[49m)\n\u001b[32m      4\u001b[39m     \u001b[38;5;28mprint\u001b[39m( sum_of_two_digit_number)\n",
      "\u001b[31mTypeError\u001b[39m: can only concatenate str (not \"int\") to str"
     ]
    }
   ],
   "source": [
    "def sum_of_two_digits():\n",
    "    two_digit_number=input(\"Enter the two digit number:\")\n",
    "    sum_of_two_digit_number=int(two_digit_number[0]+int(two_digit_number[1]))\n",
    "    print( sum_of_two_digit_number)\n",
    "\n",
    "sum_of_two_digits()"
   ]
  },
  {
   "cell_type": "code",
   "execution_count": 11,
   "id": "3f3d80fc",
   "metadata": {},
   "outputs": [
    {
     "name": "stdout",
     "output_type": "stream",
     "text": [
      "o\n",
      "r\n",
      "a\n",
      "n\n",
      "g\n",
      "e\n"
     ]
    }
   ],
   "source": [
    "fruit = \"orange\"\n",
    "for char in fruit:\n",
    "    print(char)"
   ]
  },
  {
   "cell_type": "code",
   "execution_count": 12,
   "id": "c6c222d8",
   "metadata": {},
   "outputs": [
    {
     "name": "stdout",
     "output_type": "stream",
     "text": [
      "o\n",
      "r\n",
      "a\n",
      "n\n",
      "g\n",
      "e\n"
     ]
    }
   ],
   "source": [
    "fruit = \"orange\"\n",
    "index = 0\n",
    "while index < len(fruit):\n",
    "    letter = fruit[index]\n",
    "    print(letter)\n",
    "    index += 1"
   ]
  },
  {
   "cell_type": "code",
   "execution_count": 14,
   "id": "b6f31ef9",
   "metadata": {},
   "outputs": [
    {
     "name": "stdout",
     "output_type": "stream",
     "text": [
      "6\n"
     ]
    }
   ],
   "source": [
    "number = input(\"enter an integer number:\")\n",
    "sum_digits = 0\n",
    "for num in number:\n",
    "    sum_digits += int(num)\n",
    "print(sum_digits)"
   ]
  },
  {
   "cell_type": "code",
   "execution_count": 17,
   "id": "7ff69822",
   "metadata": {},
   "outputs": [
    {
     "name": "stdout",
     "output_type": "stream",
     "text": [
      "1\n"
     ]
    }
   ],
   "source": [
    "def count_letter(word,letter):\n",
    "    counter = 0\n",
    "    for char in word:\n",
    "        if char == letter:\n",
    "            counter+=1\n",
    "    return counter\n",
    "print(count_letter(\"computer\",\"t\"))"
   ]
  },
  {
   "cell_type": "code",
   "execution_count": 18,
   "id": "540dcc4a",
   "metadata": {},
   "outputs": [
    {
     "name": "stdout",
     "output_type": "stream",
     "text": [
      "pren\n"
     ]
    }
   ],
   "source": [
    "def first_last_character(word):\n",
    "    if len(word)<2:\n",
    "        return ''\n",
    "    first_two_characters=word[0:2]\n",
    "    last_two_charcaters=word[-2:]\n",
    "    return first_two_characters+last_two_charcaters\n",
    "print(first_last_character(\"praveen\"))"
   ]
  },
  {
   "cell_type": "code",
   "execution_count": 19,
   "id": "cf0512a1",
   "metadata": {},
   "outputs": [
    {
     "name": "stdout",
     "output_type": "stream",
     "text": [
      "['__add__', '__class__', '__contains__', '__delattr__', '__dir__', '__doc__', '__eq__', '__format__', '__ge__', '__getattribute__', '__getitem__', '__getnewargs__', '__getstate__', '__gt__', '__hash__', '__init__', '__init_subclass__', '__iter__', '__le__', '__len__', '__lt__', '__mod__', '__mul__', '__ne__', '__new__', '__reduce__', '__reduce_ex__', '__repr__', '__rmod__', '__rmul__', '__setattr__', '__sizeof__', '__str__', '__subclasshook__', 'capitalize', 'casefold', 'center', 'count', 'encode', 'endswith', 'expandtabs', 'find', 'format', 'format_map', 'index', 'isalnum', 'isalpha', 'isascii', 'isdecimal', 'isdigit', 'isidentifier', 'islower', 'isnumeric', 'isprintable', 'isspace', 'istitle', 'isupper', 'join', 'ljust', 'lower', 'lstrip', 'maketrans', 'partition', 'removeprefix', 'removesuffix', 'replace', 'rfind', 'rindex', 'rjust', 'rpartition', 'rsplit', 'rstrip', 'split', 'splitlines', 'startswith', 'strip', 'swapcase', 'title', 'translate', 'upper', 'zfill']\n"
     ]
    }
   ],
   "source": [
    "my_name=\"prem\"\n",
    "print(dir(my_name))"
   ]
  },
  {
   "cell_type": "code",
   "execution_count": 23,
   "id": "30516b8b",
   "metadata": {},
   "outputs": [
    {
     "name": "stdout",
     "output_type": "stream",
     "text": [
      "hello world!\n"
     ]
    }
   ],
   "source": [
    "word = \"hello world.\"\n",
    "word1=word.replace(\".\",\"!\")\n",
    "print(word1)"
   ]
  },
  {
   "cell_type": "code",
   "execution_count": 2,
   "id": "08a045c8",
   "metadata": {},
   "outputs": [
    {
     "name": "stdout",
     "output_type": "stream",
     "text": [
      "[10, 10, 5, 15, 5, 50, 20, 50]\n"
     ]
    }
   ],
   "source": [
    "list1 = [10,10,5,15,50,50,20,50]\n",
    "index = list1.index(50)\n",
    "list1[index]=5\n",
    "print(list1)"
   ]
  },
  {
   "cell_type": "code",
   "execution_count": 9,
   "id": "ed04c1ff",
   "metadata": {},
   "outputs": [
    {
     "data": {
      "text/plain": [
       "4"
      ]
     },
     "execution_count": 9,
     "metadata": {},
     "output_type": "execute_result"
    }
   ],
   "source": [
    "list1 = ['cbc','xyz','ck','mnm','aa','trt']\n",
    "\n",
    "def count_words(p_list):\n",
    "    ctr=0\n",
    "    for word in p_list:\n",
    "        if len(word)>=2 and word[0]==word[-1]:\n",
    "            ctr+=1\n",
    "    return ctr\n",
    "count_words(list1)"
   ]
  },
  {
   "cell_type": "markdown",
   "id": "b4832a1f",
   "metadata": {},
   "source": [
    "sqaure of items"
   ]
  },
  {
   "cell_type": "code",
   "execution_count": 22,
   "id": "d8d5c60c",
   "metadata": {},
   "outputs": [
    {
     "data": {
      "text/plain": [
       "[1, 4, 9, 16]"
      ]
     },
     "execution_count": 22,
     "metadata": {},
     "output_type": "execute_result"
    }
   ],
   "source": [
    "def list(p_list):\n",
    "    for index in range(len(p_list)):\n",
    "        p_list[index]=p_list[index]*p_list[index]\n",
    "    return p_list\n",
    "list2=[1,2,3,4]\n",
    "list(list2)\n",
    "    "
   ]
  },
  {
   "cell_type": "markdown",
   "id": "ee90c401",
   "metadata": {},
   "source": [
    "reverse a string using slice operator"
   ]
  },
  {
   "cell_type": "code",
   "execution_count": 25,
   "id": "564f23e9",
   "metadata": {},
   "outputs": [
    {
     "name": "stdout",
     "output_type": "stream",
     "text": [
      "[10, 9, 8, 7, 6, 5, 4, 3, 2, 1]\n"
     ]
    }
   ],
   "source": [
    "custom_list = [1,2,3,4,5,6,7,8,9,10]\n",
    "list2 = custom_list[::-1]\n",
    "print(list2)"
   ]
  },
  {
   "cell_type": "markdown",
   "id": "661a4a6e",
   "metadata": {},
   "source": [
    "Update the First Occurrence\n",
    "Find the value of 50 in a given list, and if it is present, replace  the first occurrence of a value with 5."
   ]
  },
  {
   "cell_type": "code",
   "execution_count": 32,
   "id": "db1f8df1",
   "metadata": {},
   "outputs": [
    {
     "name": "stdout",
     "output_type": "stream",
     "text": [
      "[10, 10, 5, 15, 5, 50, 20]\n"
     ]
    }
   ],
   "source": [
    "list1=[10,10,5,15,50,50,20]\n",
    "index=list1.index(50)\n",
    "list1[index]=5\n",
    "print(list1)"
   ]
  },
  {
   "cell_type": "markdown",
   "id": "9a653590",
   "metadata": {},
   "source": [
    "First and Last Characters\n",
    "Implement a function which takes the string type list as a parameter and returns the count of the number of strings where the string length is 2 or more and the first and the last characters are same."
   ]
  },
  {
   "cell_type": "code",
   "execution_count": 49,
   "id": "82d517b0",
   "metadata": {},
   "outputs": [
    {
     "data": {
      "text/plain": [
       "4"
      ]
     },
     "execution_count": 49,
     "metadata": {},
     "output_type": "execute_result"
    }
   ],
   "source": [
    "list1=['cbc','xyz','aba','2332','mm']\n",
    "\n",
    "def flc(p_list):\n",
    "    ctr=0\n",
    "    for word in p_list:\n",
    "        if len(word)>=2 and word[0]==word[-1]:\n",
    "            ctr+=1\n",
    "    return ctr\n",
    "flc(list1)"
   ]
  },
  {
   "cell_type": "markdown",
   "id": "7e6eb3cf",
   "metadata": {},
   "source": [
    "Create a List from Two Lists\n",
    "Given two lists create a third list by picking an odd-index element from the first list and even-index elements from the second.\n",
    "\n",
    "list_one = [4, 12, 16, 21, 24, 28, 32]\n",
    "list_two = [5, 10, 15, 20, 25, 30, 35]\n",
    "\n",
    "Output\n",
    "[12, 21, 28, 5, 15, 25, 35]"
   ]
  },
  {
   "cell_type": "code",
   "execution_count": 62,
   "id": "d920bcf3",
   "metadata": {},
   "outputs": [
    {
     "name": "stdout",
     "output_type": "stream",
     "text": [
      "[12, 21, 28, 5, 15, 25, 35]\n"
     ]
    }
   ],
   "source": [
    "list_one = [4, 12, 16, 21, 24, 28, 32]\n",
    "list_two = [5, 10, 15, 20, 25, 30, 35]\n",
    "odd_index_l1 = list_one[1::2]\n",
    "even_index_l2 = list_two[0::2]\n",
    "odd_index_l1.extend(even_index_l2)\n",
    "print(odd_index_l1)"
   ]
  },
  {
   "cell_type": "markdown",
   "id": "ab01dc90",
   "metadata": {},
   "source": [
    "Remove and Add\n",
    "Remove an element at index 4 in a given list and add it to the 2nd position and at the end of the list.\n",
    "\n",
    "custom_list = [10, 44, 57, 99, 11, 33, 84]\n",
    "Output\n",
    "\n",
    "[10, 44, 11, 57, 99, 33, 84, 11]"
   ]
  },
  {
   "cell_type": "code",
   "execution_count": 67,
   "id": "f63ba9ff",
   "metadata": {},
   "outputs": [
    {
     "name": "stdout",
     "output_type": "stream",
     "text": [
      "[10, 44, 11, 57, 99, 33, 84, 11]\n"
     ]
    }
   ],
   "source": [
    "custom_list = [10, 44, 57, 99, 11, 33, 84]\n",
    "custom_list.pop(4)\n",
    "custom_list.insert(2,11)\n",
    "custom_list.append(11)\n",
    "print(custom_list)"
   ]
  },
  {
   "cell_type": "markdown",
   "id": "bdffa2fd",
   "metadata": {},
   "source": [
    "Three Equal Chunks\n",
    "Given a list slice it into Three Equal Chunks and reverse each chunk.\n",
    "\n",
    "sample_list = [21, 55, 18, 33, 24, 22, 68, 35, 79]\n",
    "Output\n",
    "\n",
    "Chunk-1 = [18, 55, 21]\n",
    "Chunk-2 = [22, 24, 33]\n",
    "Chunk-3 = [79, 35, 68]"
   ]
  },
  {
   "cell_type": "code",
   "execution_count": null,
   "id": "a6a36f9e",
   "metadata": {},
   "outputs": [],
   "source": []
  },
  {
   "cell_type": "markdown",
   "id": "7d52b810",
   "metadata": {},
   "source": [
    "Format List\n",
    "Print a given list in the format that is shown below using join method.\n",
    "\n",
    "custom_list = [1, 2, 3, 4, 5]\n",
    "\n",
    "Output\n",
    "\n",
    "1 | 2 | 3 | 4 | 5"
   ]
  },
  {
   "cell_type": "code",
   "execution_count": 69,
   "id": "b4a037d4",
   "metadata": {},
   "outputs": [
    {
     "name": "stdout",
     "output_type": "stream",
     "text": [
      "1|2|3|4|5\n"
     ]
    }
   ],
   "source": [
    "custom_list = [1, 2, 3, 4, 5]\n",
    "output_list=[]\n",
    "for item in custom_list:\n",
    "    output_list.append(str(item))\n",
    "custom_list = \"|\".join(output_list)\n",
    "print(custom_list)"
   ]
  },
  {
   "cell_type": "markdown",
   "id": "dc2df191",
   "metadata": {},
   "source": [
    "Add Item in Nested List\n",
    "Given a list as shown below and add item 7000 after 5000 and print out final list to the console.\n",
    "\n",
    "list1 = [10, 20, [300, 400, [5000, 6000], 500], 30, 40]\n",
    "Output\n",
    "\n",
    "[10, 20, [300, 400, [5000, 7000, 6000], 500], 30, 40]"
   ]
  },
  {
   "cell_type": "code",
   "execution_count": null,
   "id": "dc1f38f8",
   "metadata": {},
   "outputs": [],
   "source": []
  }
 ],
 "metadata": {
  "kernelspec": {
   "display_name": "Python 3",
   "language": "python",
   "name": "python3"
  },
  "language_info": {
   "codemirror_mode": {
    "name": "ipython",
    "version": 3
   },
   "file_extension": ".py",
   "mimetype": "text/x-python",
   "name": "python",
   "nbconvert_exporter": "python",
   "pygments_lexer": "ipython3",
   "version": "3.13.3"
  }
 },
 "nbformat": 4,
 "nbformat_minor": 5
}
